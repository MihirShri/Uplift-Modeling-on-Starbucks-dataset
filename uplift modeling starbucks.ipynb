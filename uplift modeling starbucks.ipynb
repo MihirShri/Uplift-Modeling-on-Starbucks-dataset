{
  "nbformat": 4,
  "nbformat_minor": 0,
  "metadata": {
    "colab": {
      "name": "KatMi3.ipynb",
      "provenance": [],
      "toc_visible": true
    },
    "kernelspec": {
      "name": "python3",
      "display_name": "Python 3"
    }
  },
  "cells": [
    {
      "cell_type": "code",
      "metadata": {
        "id": "gKV5FpKtDpIA",
        "colab": {
          "base_uri": "https://localhost:8080/"
        },
        "outputId": "3cf32ca6-d6d4-412a-bbeb-822c5c4e7044"
      },
      "source": [
        "#import necessary libraries\r\n",
        "import numpy as np\r\n",
        "import pandas as pd\r\n",
        "import sklearn as sk\r\n",
        "import xgboost as xgb\r\n",
        "from imblearn.over_sampling import SMOTE\r\n",
        "from sklearn.model_selection import train_test_split\r\n",
        "from sklearn import naive_bayes as nb\r\n",
        "from sklearn.tree import DecisionTreeClassifier as DTC\r\n",
        "from sklearn import svm\r\n",
        "from sklearn.linear_model import LogisticRegression as LR\r\n",
        "from sklearn.neighbors import KNeighborsClassifier as KNN\r\n",
        "from sklearn.ensemble import RandomForestClassifier as RFC\r\n",
        "\r\n",
        "import matplotlib.pyplot as plt\r\n",
        "import seaborn as sb"
      ],
      "execution_count": 1,
      "outputs": [
        {
          "output_type": "stream",
          "text": [
            "/usr/local/lib/python3.6/dist-packages/sklearn/externals/six.py:31: FutureWarning: The module is deprecated in version 0.21 and will be removed in version 0.23 since we've dropped support for Python 2.7. Please rely on the official version of six (https://pypi.org/project/six/).\n",
            "  \"(https://pypi.org/project/six/).\", FutureWarning)\n",
            "/usr/local/lib/python3.6/dist-packages/sklearn/utils/deprecation.py:144: FutureWarning: The sklearn.neighbors.base module is  deprecated in version 0.22 and will be removed in version 0.24. The corresponding classes / functions should instead be imported from sklearn.neighbors. Anything that cannot be imported from sklearn.neighbors is now part of the private API.\n",
            "  warnings.warn(message, FutureWarning)\n"
          ],
          "name": "stderr"
        }
      ]
    },
    {
      "cell_type": "code",
      "metadata": {
        "id": "4LQAbAEmo-0E"
      },
      "source": [
        "# A function to calculate the IRR and NIR\r\n",
        "def score(df, promo_pred_col = 'Promotion'):\r\n",
        "    n_treat       = df.loc[df[promo_pred_col] == 'Yes',:].shape[0]  # Total number of people treated (given promotion)\r\n",
        "    n_control     = df.loc[df[promo_pred_col] == 'No',:].shape[0] # Total number of people not given any treatment\r\n",
        "    n_treat_purch = df.loc[df[promo_pred_col] == 'Yes', 'purchase'].sum() # Total number of people who were given treatment and bought the product\r\n",
        "    n_ctrl_purch  = df.loc[df[promo_pred_col] == 'No', 'purchase'].sum()  #Total number of people who were not given the treatment and bought the product\r\n",
        "    irr = n_treat_purch / n_treat - n_ctrl_purch / n_control\r\n",
        "    nir = 10 * n_treat_purch - 0.15 * n_treat - 10 * n_ctrl_purch\r\n",
        "    return (irr, nir)"
      ],
      "execution_count": 2,
      "outputs": []
    },
    {
      "cell_type": "code",
      "metadata": {
        "id": "AtGwpSYNpTu2"
      },
      "source": [
        "# A function to test IRR and NIR on the test set\r\n",
        "def test_results(promotion_strategy):\r\n",
        "    test_data = pd.read_csv('Test.csv') # Read the test data file\r\n",
        "    df = test_data[['V1', 'V2', 'V3', 'V4', 'V5', 'V6', 'V7']]\r\n",
        "    promos = promotion_strategy(df)\r\n",
        "    score_df = test_data.iloc[np.where(promos == 'Yes')]\r\n",
        "    irr, nir = score(score_df)\r\n",
        "    print('Your irr with this strategy is {:0.4f}.'.format(irr))\r\n",
        "    print()\r\n",
        "    print('Your nir with this strategy is {:0.2f}.'.format(nir))\r\n",
        "    print()\r\n",
        "    print(\"Starbuck's baseline model had an irr of {} and an nir of {} on the test set.\".format(0.0188, 189.45))\r\n",
        "    print()\r\n",
        "    return irr, nir"
      ],
      "execution_count": 3,
      "outputs": []
    },
    {
      "cell_type": "code",
      "metadata": {
        "id": "ttOwToenFXFH"
      },
      "source": [
        "# Added this function to test our IRR and NIR on the validation set\r\n",
        "def valid_results(promotion_strategy, valid_data):\r\n",
        "    df = valid_data[['V1', 'V2', 'V3', 'V4', 'V5', 'V6', 'V7']]\r\n",
        "    promos = promotion_strategy(df)\r\n",
        "    score_df = valid_data.iloc[np.where(promos == 'Yes')]    \r\n",
        "    irr, nir = score(score_df)\r\n",
        "    print('Your irr with this strategy is {:0.4f}.'.format(irr))\r\n",
        "    print()\r\n",
        "    print('Your nir with this strategy is {:0.2f}.'.format(nir))\r\n",
        "    \r\n",
        "    print(\"Starbuck's baseline model had an irr of {} and an nir of {} on the test set.\".format(0.0188, 189.45))\r\n",
        "    return irr, nir"
      ],
      "execution_count": 4,
      "outputs": []
    },
    {
      "cell_type": "code",
      "metadata": {
        "colab": {
          "base_uri": "https://localhost:8080/",
          "height": 402
        },
        "id": "4dSr7XpWGi0z",
        "outputId": "81dbbf0d-8759-4937-cb81-f16684c27a60"
      },
      "source": [
        "train_data = pd.read_csv('training.csv')  # Read training data file\r\n",
        "train_data[train_data['purchase'] == 1]"
      ],
      "execution_count": 5,
      "outputs": [
        {
          "output_type": "execute_result",
          "data": {
            "text/html": [
              "<div>\n",
              "<style scoped>\n",
              "    .dataframe tbody tr th:only-of-type {\n",
              "        vertical-align: middle;\n",
              "    }\n",
              "\n",
              "    .dataframe tbody tr th {\n",
              "        vertical-align: top;\n",
              "    }\n",
              "\n",
              "    .dataframe thead th {\n",
              "        text-align: right;\n",
              "    }\n",
              "</style>\n",
              "<table border=\"1\" class=\"dataframe\">\n",
              "  <thead>\n",
              "    <tr style=\"text-align: right;\">\n",
              "      <th></th>\n",
              "      <th>ID</th>\n",
              "      <th>Promotion</th>\n",
              "      <th>purchase</th>\n",
              "      <th>V1</th>\n",
              "      <th>V2</th>\n",
              "      <th>V3</th>\n",
              "      <th>V4</th>\n",
              "      <th>V5</th>\n",
              "      <th>V6</th>\n",
              "      <th>V7</th>\n",
              "    </tr>\n",
              "  </thead>\n",
              "  <tbody>\n",
              "    <tr>\n",
              "      <th>107</th>\n",
              "      <td>162</td>\n",
              "      <td>Yes</td>\n",
              "      <td>1</td>\n",
              "      <td>1</td>\n",
              "      <td>33.030562</td>\n",
              "      <td>-0.732194</td>\n",
              "      <td>2</td>\n",
              "      <td>1</td>\n",
              "      <td>1</td>\n",
              "      <td>1</td>\n",
              "    </tr>\n",
              "    <tr>\n",
              "      <th>328</th>\n",
              "      <td>503</td>\n",
              "      <td>Yes</td>\n",
              "      <td>1</td>\n",
              "      <td>3</td>\n",
              "      <td>31.760033</td>\n",
              "      <td>1.518828</td>\n",
              "      <td>2</td>\n",
              "      <td>1</td>\n",
              "      <td>2</td>\n",
              "      <td>2</td>\n",
              "    </tr>\n",
              "    <tr>\n",
              "      <th>352</th>\n",
              "      <td>534</td>\n",
              "      <td>Yes</td>\n",
              "      <td>1</td>\n",
              "      <td>2</td>\n",
              "      <td>17.512709</td>\n",
              "      <td>1.259095</td>\n",
              "      <td>2</td>\n",
              "      <td>3</td>\n",
              "      <td>4</td>\n",
              "      <td>2</td>\n",
              "    </tr>\n",
              "    <tr>\n",
              "      <th>383</th>\n",
              "      <td>580</td>\n",
              "      <td>Yes</td>\n",
              "      <td>1</td>\n",
              "      <td>1</td>\n",
              "      <td>31.043735</td>\n",
              "      <td>-1.338239</td>\n",
              "      <td>2</td>\n",
              "      <td>1</td>\n",
              "      <td>2</td>\n",
              "      <td>1</td>\n",
              "    </tr>\n",
              "    <tr>\n",
              "      <th>423</th>\n",
              "      <td>639</td>\n",
              "      <td>No</td>\n",
              "      <td>1</td>\n",
              "      <td>1</td>\n",
              "      <td>34.901993</td>\n",
              "      <td>-0.905350</td>\n",
              "      <td>2</td>\n",
              "      <td>3</td>\n",
              "      <td>2</td>\n",
              "      <td>2</td>\n",
              "    </tr>\n",
              "    <tr>\n",
              "      <th>...</th>\n",
              "      <td>...</td>\n",
              "      <td>...</td>\n",
              "      <td>...</td>\n",
              "      <td>...</td>\n",
              "      <td>...</td>\n",
              "      <td>...</td>\n",
              "      <td>...</td>\n",
              "      <td>...</td>\n",
              "      <td>...</td>\n",
              "      <td>...</td>\n",
              "    </tr>\n",
              "    <tr>\n",
              "      <th>84300</th>\n",
              "      <td>125804</td>\n",
              "      <td>Yes</td>\n",
              "      <td>1</td>\n",
              "      <td>1</td>\n",
              "      <td>34.289793</td>\n",
              "      <td>0.047006</td>\n",
              "      <td>2</td>\n",
              "      <td>2</td>\n",
              "      <td>1</td>\n",
              "      <td>1</td>\n",
              "    </tr>\n",
              "    <tr>\n",
              "      <th>84314</th>\n",
              "      <td>125828</td>\n",
              "      <td>Yes</td>\n",
              "      <td>1</td>\n",
              "      <td>2</td>\n",
              "      <td>33.966419</td>\n",
              "      <td>1.605406</td>\n",
              "      <td>2</td>\n",
              "      <td>1</td>\n",
              "      <td>3</td>\n",
              "      <td>2</td>\n",
              "    </tr>\n",
              "    <tr>\n",
              "      <th>84388</th>\n",
              "      <td>125954</td>\n",
              "      <td>Yes</td>\n",
              "      <td>1</td>\n",
              "      <td>2</td>\n",
              "      <td>31.100225</td>\n",
              "      <td>-1.165083</td>\n",
              "      <td>2</td>\n",
              "      <td>3</td>\n",
              "      <td>2</td>\n",
              "      <td>1</td>\n",
              "    </tr>\n",
              "    <tr>\n",
              "      <th>84425</th>\n",
              "      <td>126005</td>\n",
              "      <td>Yes</td>\n",
              "      <td>1</td>\n",
              "      <td>2</td>\n",
              "      <td>32.146965</td>\n",
              "      <td>1.691984</td>\n",
              "      <td>2</td>\n",
              "      <td>3</td>\n",
              "      <td>4</td>\n",
              "      <td>2</td>\n",
              "    </tr>\n",
              "    <tr>\n",
              "      <th>84448</th>\n",
              "      <td>126047</td>\n",
              "      <td>No</td>\n",
              "      <td>1</td>\n",
              "      <td>0</td>\n",
              "      <td>34.242283</td>\n",
              "      <td>-1.165083</td>\n",
              "      <td>2</td>\n",
              "      <td>2</td>\n",
              "      <td>4</td>\n",
              "      <td>1</td>\n",
              "    </tr>\n",
              "  </tbody>\n",
              "</table>\n",
              "<p>1040 rows × 10 columns</p>\n",
              "</div>"
            ],
            "text/plain": [
              "           ID Promotion  purchase  V1         V2        V3  V4  V5  V6  V7\n",
              "107       162       Yes         1   1  33.030562 -0.732194   2   1   1   1\n",
              "328       503       Yes         1   3  31.760033  1.518828   2   1   2   2\n",
              "352       534       Yes         1   2  17.512709  1.259095   2   3   4   2\n",
              "383       580       Yes         1   1  31.043735 -1.338239   2   1   2   1\n",
              "423       639        No         1   1  34.901993 -0.905350   2   3   2   2\n",
              "...       ...       ...       ...  ..        ...       ...  ..  ..  ..  ..\n",
              "84300  125804       Yes         1   1  34.289793  0.047006   2   2   1   1\n",
              "84314  125828       Yes         1   2  33.966419  1.605406   2   1   3   2\n",
              "84388  125954       Yes         1   2  31.100225 -1.165083   2   3   2   1\n",
              "84425  126005       Yes         1   2  32.146965  1.691984   2   3   4   2\n",
              "84448  126047        No         1   0  34.242283 -1.165083   2   2   4   1\n",
              "\n",
              "[1040 rows x 10 columns]"
            ]
          },
          "metadata": {
            "tags": []
          },
          "execution_count": 5
        }
      ]
    },
    {
      "cell_type": "code",
      "metadata": {
        "colab": {
          "base_uri": "https://localhost:8080/"
        },
        "id": "6JUfuSduHIst",
        "outputId": "e4368110-0392-43e2-c53c-c13824dbcb5c"
      },
      "source": [
        "# Check number of missing values per column\r\n",
        "train_data.isnull().mean()"
      ],
      "execution_count": 6,
      "outputs": [
        {
          "output_type": "execute_result",
          "data": {
            "text/plain": [
              "ID           0.0\n",
              "Promotion    0.0\n",
              "purchase     0.0\n",
              "V1           0.0\n",
              "V2           0.0\n",
              "V3           0.0\n",
              "V4           0.0\n",
              "V5           0.0\n",
              "V6           0.0\n",
              "V7           0.0\n",
              "dtype: float64"
            ]
          },
          "metadata": {
            "tags": []
          },
          "execution_count": 6
        }
      ]
    },
    {
      "cell_type": "code",
      "metadata": {
        "colab": {
          "base_uri": "https://localhost:8080/",
          "height": 402
        },
        "id": "T-IypCRHHR-3",
        "outputId": "21f8d938-1814-4a2c-aec2-e3f5b4e12267"
      },
      "source": [
        "test_data = pd.read_csv('Test.csv') # Read the test data file\r\n",
        "test_data"
      ],
      "execution_count": 7,
      "outputs": [
        {
          "output_type": "execute_result",
          "data": {
            "text/html": [
              "<div>\n",
              "<style scoped>\n",
              "    .dataframe tbody tr th:only-of-type {\n",
              "        vertical-align: middle;\n",
              "    }\n",
              "\n",
              "    .dataframe tbody tr th {\n",
              "        vertical-align: top;\n",
              "    }\n",
              "\n",
              "    .dataframe thead th {\n",
              "        text-align: right;\n",
              "    }\n",
              "</style>\n",
              "<table border=\"1\" class=\"dataframe\">\n",
              "  <thead>\n",
              "    <tr style=\"text-align: right;\">\n",
              "      <th></th>\n",
              "      <th>ID</th>\n",
              "      <th>Promotion</th>\n",
              "      <th>purchase</th>\n",
              "      <th>V1</th>\n",
              "      <th>V2</th>\n",
              "      <th>V3</th>\n",
              "      <th>V4</th>\n",
              "      <th>V5</th>\n",
              "      <th>V6</th>\n",
              "      <th>V7</th>\n",
              "    </tr>\n",
              "  </thead>\n",
              "  <tbody>\n",
              "    <tr>\n",
              "      <th>0</th>\n",
              "      <td>2</td>\n",
              "      <td>No</td>\n",
              "      <td>0</td>\n",
              "      <td>1</td>\n",
              "      <td>41.376390</td>\n",
              "      <td>1.172517</td>\n",
              "      <td>1</td>\n",
              "      <td>1</td>\n",
              "      <td>2</td>\n",
              "      <td>2</td>\n",
              "    </tr>\n",
              "    <tr>\n",
              "      <th>1</th>\n",
              "      <td>6</td>\n",
              "      <td>Yes</td>\n",
              "      <td>0</td>\n",
              "      <td>1</td>\n",
              "      <td>25.163598</td>\n",
              "      <td>0.653050</td>\n",
              "      <td>2</td>\n",
              "      <td>2</td>\n",
              "      <td>2</td>\n",
              "      <td>2</td>\n",
              "    </tr>\n",
              "    <tr>\n",
              "      <th>2</th>\n",
              "      <td>7</td>\n",
              "      <td>Yes</td>\n",
              "      <td>0</td>\n",
              "      <td>1</td>\n",
              "      <td>26.553778</td>\n",
              "      <td>-1.597972</td>\n",
              "      <td>2</td>\n",
              "      <td>3</td>\n",
              "      <td>4</td>\n",
              "      <td>2</td>\n",
              "    </tr>\n",
              "    <tr>\n",
              "      <th>3</th>\n",
              "      <td>10</td>\n",
              "      <td>No</td>\n",
              "      <td>0</td>\n",
              "      <td>2</td>\n",
              "      <td>28.529691</td>\n",
              "      <td>-1.078506</td>\n",
              "      <td>2</td>\n",
              "      <td>3</td>\n",
              "      <td>2</td>\n",
              "      <td>2</td>\n",
              "    </tr>\n",
              "    <tr>\n",
              "      <th>4</th>\n",
              "      <td>12</td>\n",
              "      <td>No</td>\n",
              "      <td>0</td>\n",
              "      <td>2</td>\n",
              "      <td>32.378538</td>\n",
              "      <td>0.479895</td>\n",
              "      <td>2</td>\n",
              "      <td>2</td>\n",
              "      <td>1</td>\n",
              "      <td>2</td>\n",
              "    </tr>\n",
              "    <tr>\n",
              "      <th>...</th>\n",
              "      <td>...</td>\n",
              "      <td>...</td>\n",
              "      <td>...</td>\n",
              "      <td>...</td>\n",
              "      <td>...</td>\n",
              "      <td>...</td>\n",
              "      <td>...</td>\n",
              "      <td>...</td>\n",
              "      <td>...</td>\n",
              "      <td>...</td>\n",
              "    </tr>\n",
              "    <tr>\n",
              "      <th>41645</th>\n",
              "      <td>126166</td>\n",
              "      <td>No</td>\n",
              "      <td>0</td>\n",
              "      <td>1</td>\n",
              "      <td>33.073275</td>\n",
              "      <td>-0.126150</td>\n",
              "      <td>2</td>\n",
              "      <td>2</td>\n",
              "      <td>2</td>\n",
              "      <td>2</td>\n",
              "    </tr>\n",
              "    <tr>\n",
              "      <th>41646</th>\n",
              "      <td>126174</td>\n",
              "      <td>Yes</td>\n",
              "      <td>0</td>\n",
              "      <td>0</td>\n",
              "      <td>32.065720</td>\n",
              "      <td>0.999361</td>\n",
              "      <td>2</td>\n",
              "      <td>3</td>\n",
              "      <td>2</td>\n",
              "      <td>1</td>\n",
              "    </tr>\n",
              "    <tr>\n",
              "      <th>41647</th>\n",
              "      <td>126176</td>\n",
              "      <td>Yes</td>\n",
              "      <td>1</td>\n",
              "      <td>3</td>\n",
              "      <td>27.691221</td>\n",
              "      <td>1.172517</td>\n",
              "      <td>2</td>\n",
              "      <td>2</td>\n",
              "      <td>1</td>\n",
              "      <td>2</td>\n",
              "    </tr>\n",
              "    <tr>\n",
              "      <th>41648</th>\n",
              "      <td>126177</td>\n",
              "      <td>Yes</td>\n",
              "      <td>0</td>\n",
              "      <td>2</td>\n",
              "      <td>32.306427</td>\n",
              "      <td>0.566472</td>\n",
              "      <td>1</td>\n",
              "      <td>2</td>\n",
              "      <td>4</td>\n",
              "      <td>1</td>\n",
              "    </tr>\n",
              "    <tr>\n",
              "      <th>41649</th>\n",
              "      <td>126178</td>\n",
              "      <td>Yes</td>\n",
              "      <td>0</td>\n",
              "      <td>1</td>\n",
              "      <td>30.540005</td>\n",
              "      <td>1.691984</td>\n",
              "      <td>1</td>\n",
              "      <td>3</td>\n",
              "      <td>1</td>\n",
              "      <td>2</td>\n",
              "    </tr>\n",
              "  </tbody>\n",
              "</table>\n",
              "<p>41650 rows × 10 columns</p>\n",
              "</div>"
            ],
            "text/plain": [
              "           ID Promotion  purchase  V1         V2        V3  V4  V5  V6  V7\n",
              "0           2        No         0   1  41.376390  1.172517   1   1   2   2\n",
              "1           6       Yes         0   1  25.163598  0.653050   2   2   2   2\n",
              "2           7       Yes         0   1  26.553778 -1.597972   2   3   4   2\n",
              "3          10        No         0   2  28.529691 -1.078506   2   3   2   2\n",
              "4          12        No         0   2  32.378538  0.479895   2   2   1   2\n",
              "...       ...       ...       ...  ..        ...       ...  ..  ..  ..  ..\n",
              "41645  126166        No         0   1  33.073275 -0.126150   2   2   2   2\n",
              "41646  126174       Yes         0   0  32.065720  0.999361   2   3   2   1\n",
              "41647  126176       Yes         1   3  27.691221  1.172517   2   2   1   2\n",
              "41648  126177       Yes         0   2  32.306427  0.566472   1   2   4   1\n",
              "41649  126178       Yes         0   1  30.540005  1.691984   1   3   1   2\n",
              "\n",
              "[41650 rows x 10 columns]"
            ]
          },
          "metadata": {
            "tags": []
          },
          "execution_count": 7
        }
      ]
    },
    {
      "cell_type": "code",
      "metadata": {
        "id": "EP3PEUmSHeam"
      },
      "source": [
        "features = ['V1', 'V2', 'V3', 'V4', 'V5', 'V6', 'V7']"
      ],
      "execution_count": 8,
      "outputs": []
    },
    {
      "cell_type": "code",
      "metadata": {
        "colab": {
          "base_uri": "https://localhost:8080/"
        },
        "id": "Z41q9mYBHij3",
        "outputId": "19656d4e-7263-423e-eec6-82fc13ef6121"
      },
      "source": [
        "train_data['Promotion'].value_counts()"
      ],
      "execution_count": 9,
      "outputs": [
        {
          "output_type": "execute_result",
          "data": {
            "text/plain": [
              "Yes    42364\n",
              "No     42170\n",
              "Name: Promotion, dtype: int64"
            ]
          },
          "metadata": {
            "tags": []
          },
          "execution_count": 9
        }
      ]
    },
    {
      "cell_type": "code",
      "metadata": {
        "colab": {
          "base_uri": "https://localhost:8080/"
        },
        "id": "R0w8aj-9Hk8V",
        "outputId": "5aa86c1b-b4a3-4939-d551-66681ead8f3f"
      },
      "source": [
        "train_data['purchase'].value_counts()"
      ],
      "execution_count": 10,
      "outputs": [
        {
          "output_type": "execute_result",
          "data": {
            "text/plain": [
              "0    83494\n",
              "1     1040\n",
              "Name: purchase, dtype: int64"
            ]
          },
          "metadata": {
            "tags": []
          },
          "execution_count": 10
        }
      ]
    },
    {
      "cell_type": "code",
      "metadata": {
        "id": "UwsyNh9hTex8"
      },
      "source": [
        ""
      ],
      "execution_count": 10,
      "outputs": []
    },
    {
      "cell_type": "code",
      "metadata": {
        "colab": {
          "base_uri": "https://localhost:8080/",
          "height": 607
        },
        "id": "FJ7HbfS5HnB1",
        "outputId": "4281b112-f7ce-4283-f774-a12a8f5480cd"
      },
      "source": [
        "train_data[(train_data['Promotion']=='Yes') & (train_data['purchase']==1)][features].hist(figsize=(10,10)); # Persuadables"
      ],
      "execution_count": 11,
      "outputs": [
        {
          "output_type": "display_data",
          "data": {
            "image/png": "[encoded data removed]",
            "text/plain": [
              "<Figure size 720x720 with 9 Axes>"
            ]
          },
          "metadata": {
            "tags": [],
            "needs_background": "light"
          }
        }
      ]
    },
    {
      "cell_type": "code",
      "metadata": {
        "colab": {
          "base_uri": "https://localhost:8080/",
          "height": 607
        },
        "id": "oLTEkIDmHs1-",
        "outputId": "5a0fa914-4ee6-421f-81d2-fbb48b91b3b6"
      },
      "source": [
        "train_data[(train_data['Promotion']=='Yes') & (train_data['purchase']==0)][features].hist(figsize=(10,10)); # Do not disturbs"
      ],
      "execution_count": 12,
      "outputs": [
        {
          "output_type": "display_data",
          "data": {
            "image/png": "[encoded data removed]",
            "text/plain": [
              "<Figure size 720x720 with 9 Axes>"
            ]
          },
          "metadata": {
            "tags": [],
            "needs_background": "light"
          }
        }
      ]
    },
    {
      "cell_type": "code",
      "metadata": {
        "colab": {
          "base_uri": "https://localhost:8080/",
          "height": 607
        },
        "id": "m9E66hAwHvaD",
        "outputId": "d1d26950-93dd-4d3c-bbd2-723ecc7fadb0"
      },
      "source": [
        "train_data[(train_data['Promotion']=='No') & (train_data['purchase']==1)][features].hist(figsize=(10,10));  # Sure things"
      ],
      "execution_count": 13,
      "outputs": [
        {
          "output_type": "display_data",
          "data": {
            "image/png": "[encoded data removed]",
            "text/plain": [
              "<Figure size 720x720 with 9 Axes>"
            ]
          },
          "metadata": {
            "tags": [],
            "needs_background": "light"
          }
        }
      ]
    },
    {
      "cell_type": "code",
      "metadata": {
        "colab": {
          "base_uri": "https://localhost:8080/",
          "height": 607
        },
        "id": "XtXwIDNtH1C3",
        "outputId": "b1b03953-3d98-483b-96c1-2aec64a7b28b"
      },
      "source": [
        "train_data[(train_data['Promotion']=='No') & (train_data['purchase']==0)][features].hist(figsize=(10,10));  # Lost causes"
      ],
      "execution_count": 14,
      "outputs": [
        {
          "output_type": "display_data",
          "data": {
            "image/png": "[encoded data removed]",
            "text/plain": [
              "<Figure size 720x720 with 9 Axes>"
            ]
          },
          "metadata": {
            "tags": [],
            "needs_background": "light"
          }
        }
      ]
    },
    {
      "cell_type": "code",
      "metadata": {
        "colab": {
          "base_uri": "https://localhost:8080/",
          "height": 607
        },
        "id": "ncJK6X72H4VV",
        "outputId": "6523a3d8-d149-49a4-a342-4210f6743a17"
      },
      "source": [
        "test_data[(test_data['Promotion']=='Yes') & (test_data['purchase']==1)][features].hist(figsize=(10,10));  # Persuadables"
      ],
      "execution_count": 15,
      "outputs": [
        {
          "output_type": "display_data",
          "data": {
            "image/png": "[encoded data removed]",
            "text/plain": [
              "<Figure size 720x720 with 9 Axes>"
            ]
          },
          "metadata": {
            "tags": [],
            "needs_background": "light"
          }
        }
      ]
    },
    {
      "cell_type": "code",
      "metadata": {
        "colab": {
          "base_uri": "https://localhost:8080/",
          "height": 607
        },
        "id": "nduWw31RIAyr",
        "outputId": "425d9089-4ced-4ec9-94ce-3c1abcbafaa3"
      },
      "source": [
        "test_data[(test_data['Promotion']=='Yes') & (test_data['purchase']==0)][features].hist(figsize=(10,10));  # Do not disturbs"
      ],
      "execution_count": 16,
      "outputs": [
        {
          "output_type": "display_data",
          "data": {
            "image/png": "[encoded data removed]",
            "text/plain": [
              "<Figure size 720x720 with 9 Axes>"
            ]
          },
          "metadata": {
            "tags": [],
            "needs_background": "light"
          }
        }
      ]
    },
    {
      "cell_type": "code",
      "metadata": {
        "colab": {
          "base_uri": "https://localhost:8080/",
          "height": 607
        },
        "id": "wsm7ZQNoIEje",
        "outputId": "d0b44536-b49c-40e4-e3dc-99ada9779893"
      },
      "source": [
        "test_data[(test_data['Promotion']=='No') & (test_data['purchase']==1)][features].hist(figsize=(10,10)); # Sure things"
      ],
      "execution_count": 17,
      "outputs": [
        {
          "output_type": "display_data",
          "data": {
            "image/png": "[encoded data removed]",
            "text/plain": [
              "<Figure size 720x720 with 9 Axes>"
            ]
          },
          "metadata": {
            "tags": [],
            "needs_background": "light"
          }
        }
      ]
    },
    {
      "cell_type": "code",
      "metadata": {
        "colab": {
          "base_uri": "https://localhost:8080/",
          "height": 607
        },
        "id": "gx6gollPIHQT",
        "outputId": "5a30e2c4-9e86-4477-f4ba-e32f75781b0c"
      },
      "source": [
        "test_data[(test_data['Promotion']=='No') & (test_data['purchase']==0)][features].hist(figsize=(10,10)); # Lost causes"
      ],
      "execution_count": 18,
      "outputs": [
        {
          "output_type": "display_data",
          "data": {
            "image/png": "[encoded data removed]",
            "text/plain": [
              "<Figure size 720x720 with 9 Axes>"
            ]
          },
          "metadata": {
            "tags": [],
            "needs_background": "light"
          }
        }
      ]
    },
    {
      "cell_type": "code",
      "metadata": {
        "id": "1NMZB5ChIJms"
      },
      "source": [
        "# This is our baseline model, where we send promotions to everyone\r\n",
        "def promotion_strategy(df):\r\n",
        "    test = df\r\n",
        "    \r\n",
        "    promotion = []\r\n",
        "    \r\n",
        "    num_test_points = test.shape[0]\r\n",
        "    \r\n",
        "    for i in range(num_test_points):\r\n",
        "        promotion.append('Yes')\r\n",
        "        \r\n",
        "    promotion = np.array(promotion)\r\n",
        "    \r\n",
        "    return promotion"
      ],
      "execution_count": 19,
      "outputs": []
    },
    {
      "cell_type": "code",
      "metadata": {
        "colab": {
          "base_uri": "https://localhost:8080/"
        },
        "id": "WgyVMJETISZe",
        "outputId": "41ea94c6-afe7-4928-80bd-19642fb59b36"
      },
      "source": [
        "test_results(promotion_strategy)"
      ],
      "execution_count": 20,
      "outputs": [
        {
          "output_type": "stream",
          "text": [
            "Your irr with this strategy is 0.0096.\n",
            "\n",
            "Your nir with this strategy is -1132.20.\n",
            "\n",
            "Starbuck's baseline model had an irr of 0.0188 and an nir of 189.45 on the test set.\n",
            "\n"
          ],
          "name": "stdout"
        },
        {
          "output_type": "execute_result",
          "data": {
            "text/plain": [
              "(0.009593158278250108, -1132.1999999999998)"
            ]
          },
          "metadata": {
            "tags": []
          },
          "execution_count": 20
        }
      ]
    },
    {
      "cell_type": "markdown",
      "metadata": {
        "id": "J4dogQqvJgQW"
      },
      "source": [
        "# **Model 1**"
      ]
    },
    {
      "cell_type": "code",
      "metadata": {
        "id": "Ec-c5BEpIU7s"
      },
      "source": [
        "# generate labels\r\n",
        "# only those who made a purchase after receiving a promotion (persuadables) will be assigned a label of 1\r\n",
        "# while the other individuals will be given a label of 0\r\n",
        "\r\n",
        "response = []\r\n",
        "\r\n",
        "for index, row in train_data.iterrows():\r\n",
        "    if (row['purchase'] == 1) and (row['Promotion']=='Yes'):\r\n",
        "        response.append(1.0)\r\n",
        "    else:\r\n",
        "        response.append(0.0)\r\n",
        "        \r\n",
        "train_data['response'] = response"
      ],
      "execution_count": 21,
      "outputs": []
    },
    {
      "cell_type": "code",
      "metadata": {
        "colab": {
          "base_uri": "https://localhost:8080/",
          "height": 402
        },
        "id": "ziGJzi-lJ3Al",
        "outputId": "511ae36a-c5f9-4d52-9414-89600062cee8"
      },
      "source": [
        "train_data"
      ],
      "execution_count": 22,
      "outputs": [
        {
          "output_type": "execute_result",
          "data": {
            "text/html": [
              "<div>\n",
              "<style scoped>\n",
              "    .dataframe tbody tr th:only-of-type {\n",
              "        vertical-align: middle;\n",
              "    }\n",
              "\n",
              "    .dataframe tbody tr th {\n",
              "        vertical-align: top;\n",
              "    }\n",
              "\n",
              "    .dataframe thead th {\n",
              "        text-align: right;\n",
              "    }\n",
              "</style>\n",
              "<table border=\"1\" class=\"dataframe\">\n",
              "  <thead>\n",
              "    <tr style=\"text-align: right;\">\n",
              "      <th></th>\n",
              "      <th>ID</th>\n",
              "      <th>Promotion</th>\n",
              "      <th>purchase</th>\n",
              "      <th>V1</th>\n",
              "      <th>V2</th>\n",
              "      <th>V3</th>\n",
              "      <th>V4</th>\n",
              "      <th>V5</th>\n",
              "      <th>V6</th>\n",
              "      <th>V7</th>\n",
              "      <th>response</th>\n",
              "    </tr>\n",
              "  </thead>\n",
              "  <tbody>\n",
              "    <tr>\n",
              "      <th>0</th>\n",
              "      <td>1</td>\n",
              "      <td>No</td>\n",
              "      <td>0</td>\n",
              "      <td>2</td>\n",
              "      <td>30.443518</td>\n",
              "      <td>-1.165083</td>\n",
              "      <td>1</td>\n",
              "      <td>1</td>\n",
              "      <td>3</td>\n",
              "      <td>2</td>\n",
              "      <td>0.0</td>\n",
              "    </tr>\n",
              "    <tr>\n",
              "      <th>1</th>\n",
              "      <td>3</td>\n",
              "      <td>No</td>\n",
              "      <td>0</td>\n",
              "      <td>3</td>\n",
              "      <td>32.159350</td>\n",
              "      <td>-0.645617</td>\n",
              "      <td>2</td>\n",
              "      <td>3</td>\n",
              "      <td>2</td>\n",
              "      <td>2</td>\n",
              "      <td>0.0</td>\n",
              "    </tr>\n",
              "    <tr>\n",
              "      <th>2</th>\n",
              "      <td>4</td>\n",
              "      <td>No</td>\n",
              "      <td>0</td>\n",
              "      <td>2</td>\n",
              "      <td>30.431659</td>\n",
              "      <td>0.133583</td>\n",
              "      <td>1</td>\n",
              "      <td>1</td>\n",
              "      <td>4</td>\n",
              "      <td>2</td>\n",
              "      <td>0.0</td>\n",
              "    </tr>\n",
              "    <tr>\n",
              "      <th>3</th>\n",
              "      <td>5</td>\n",
              "      <td>No</td>\n",
              "      <td>0</td>\n",
              "      <td>0</td>\n",
              "      <td>26.588914</td>\n",
              "      <td>-0.212728</td>\n",
              "      <td>2</td>\n",
              "      <td>1</td>\n",
              "      <td>4</td>\n",
              "      <td>2</td>\n",
              "      <td>0.0</td>\n",
              "    </tr>\n",
              "    <tr>\n",
              "      <th>4</th>\n",
              "      <td>8</td>\n",
              "      <td>Yes</td>\n",
              "      <td>0</td>\n",
              "      <td>3</td>\n",
              "      <td>28.044332</td>\n",
              "      <td>-0.385883</td>\n",
              "      <td>1</td>\n",
              "      <td>1</td>\n",
              "      <td>2</td>\n",
              "      <td>2</td>\n",
              "      <td>0.0</td>\n",
              "    </tr>\n",
              "    <tr>\n",
              "      <th>...</th>\n",
              "      <td>...</td>\n",
              "      <td>...</td>\n",
              "      <td>...</td>\n",
              "      <td>...</td>\n",
              "      <td>...</td>\n",
              "      <td>...</td>\n",
              "      <td>...</td>\n",
              "      <td>...</td>\n",
              "      <td>...</td>\n",
              "      <td>...</td>\n",
              "      <td>...</td>\n",
              "    </tr>\n",
              "    <tr>\n",
              "      <th>84529</th>\n",
              "      <td>126180</td>\n",
              "      <td>No</td>\n",
              "      <td>0</td>\n",
              "      <td>1</td>\n",
              "      <td>30.084876</td>\n",
              "      <td>1.345672</td>\n",
              "      <td>1</td>\n",
              "      <td>1</td>\n",
              "      <td>3</td>\n",
              "      <td>1</td>\n",
              "      <td>0.0</td>\n",
              "    </tr>\n",
              "    <tr>\n",
              "      <th>84530</th>\n",
              "      <td>126181</td>\n",
              "      <td>Yes</td>\n",
              "      <td>0</td>\n",
              "      <td>3</td>\n",
              "      <td>33.501485</td>\n",
              "      <td>-0.299306</td>\n",
              "      <td>1</td>\n",
              "      <td>1</td>\n",
              "      <td>4</td>\n",
              "      <td>1</td>\n",
              "      <td>0.0</td>\n",
              "    </tr>\n",
              "    <tr>\n",
              "      <th>84531</th>\n",
              "      <td>126182</td>\n",
              "      <td>No</td>\n",
              "      <td>0</td>\n",
              "      <td>1</td>\n",
              "      <td>31.492019</td>\n",
              "      <td>1.085939</td>\n",
              "      <td>2</td>\n",
              "      <td>3</td>\n",
              "      <td>2</td>\n",
              "      <td>2</td>\n",
              "      <td>0.0</td>\n",
              "    </tr>\n",
              "    <tr>\n",
              "      <th>84532</th>\n",
              "      <td>126183</td>\n",
              "      <td>No</td>\n",
              "      <td>0</td>\n",
              "      <td>1</td>\n",
              "      <td>37.766106</td>\n",
              "      <td>0.999361</td>\n",
              "      <td>2</td>\n",
              "      <td>2</td>\n",
              "      <td>1</td>\n",
              "      <td>2</td>\n",
              "      <td>0.0</td>\n",
              "    </tr>\n",
              "    <tr>\n",
              "      <th>84533</th>\n",
              "      <td>126184</td>\n",
              "      <td>No</td>\n",
              "      <td>0</td>\n",
              "      <td>1</td>\n",
              "      <td>21.720835</td>\n",
              "      <td>1.085939</td>\n",
              "      <td>2</td>\n",
              "      <td>2</td>\n",
              "      <td>1</td>\n",
              "      <td>2</td>\n",
              "      <td>0.0</td>\n",
              "    </tr>\n",
              "  </tbody>\n",
              "</table>\n",
              "<p>84534 rows × 11 columns</p>\n",
              "</div>"
            ],
            "text/plain": [
              "           ID Promotion  purchase  V1         V2  ...  V4  V5  V6  V7  response\n",
              "0           1        No         0   2  30.443518  ...   1   1   3   2       0.0\n",
              "1           3        No         0   3  32.159350  ...   2   3   2   2       0.0\n",
              "2           4        No         0   2  30.431659  ...   1   1   4   2       0.0\n",
              "3           5        No         0   0  26.588914  ...   2   1   4   2       0.0\n",
              "4           8       Yes         0   3  28.044332  ...   1   1   2   2       0.0\n",
              "...       ...       ...       ...  ..        ...  ...  ..  ..  ..  ..       ...\n",
              "84529  126180        No         0   1  30.084876  ...   1   1   3   1       0.0\n",
              "84530  126181       Yes         0   3  33.501485  ...   1   1   4   1       0.0\n",
              "84531  126182        No         0   1  31.492019  ...   2   3   2   2       0.0\n",
              "84532  126183        No         0   1  37.766106  ...   2   2   1   2       0.0\n",
              "84533  126184        No         0   1  21.720835  ...   2   2   1   2       0.0\n",
              "\n",
              "[84534 rows x 11 columns]"
            ]
          },
          "metadata": {
            "tags": []
          },
          "execution_count": 22
        }
      ]
    },
    {
      "cell_type": "code",
      "metadata": {
        "id": "3KfUvoWUJ6T8"
      },
      "source": [
        "# split data into train and valid\r\n",
        "train, valid = sk.model_selection.train_test_split(train_data, test_size=0.2, random_state=42)"
      ],
      "execution_count": 23,
      "outputs": []
    },
    {
      "cell_type": "code",
      "metadata": {
        "id": "g65s2md4Nuz4"
      },
      "source": [
        "# generate features and labels\r\n",
        "Y_train = train['response']\r\n",
        "X_train = train[features]\r\n",
        "\r\n",
        "Y_valid = valid['response']\r\n",
        "X_valid = valid[features]"
      ],
      "execution_count": 24,
      "outputs": []
    },
    {
      "cell_type": "code",
      "metadata": {
        "colab": {
          "base_uri": "https://localhost:8080/"
        },
        "id": "CqAQk_F2PBjI",
        "outputId": "8616ff95-ec0e-4fa4-ef05-80f709349340"
      },
      "source": [
        "Y_train.value_counts()"
      ],
      "execution_count": 25,
      "outputs": [
        {
          "output_type": "execute_result",
          "data": {
            "text/plain": [
              "0.0    67047\n",
              "1.0      580\n",
              "Name: response, dtype: int64"
            ]
          },
          "metadata": {
            "tags": []
          },
          "execution_count": 25
        }
      ]
    },
    {
      "cell_type": "code",
      "metadata": {
        "colab": {
          "base_uri": "https://localhost:8080/"
        },
        "id": "xyD96ePlPEkS",
        "outputId": "fb992414-f655-44ea-b738-cdfa95499d3b"
      },
      "source": [
        "Y_valid.value_counts()"
      ],
      "execution_count": 26,
      "outputs": [
        {
          "output_type": "execute_result",
          "data": {
            "text/plain": [
              "0.0    16766\n",
              "1.0      141\n",
              "Name: response, dtype: int64"
            ]
          },
          "metadata": {
            "tags": []
          },
          "execution_count": 26
        }
      ]
    },
    {
      "cell_type": "code",
      "metadata": {
        "colab": {
          "base_uri": "https://localhost:8080/"
        },
        "id": "4XNvQlhHPKXi",
        "outputId": "69779346-1448-4b20-a144-056a85c6399d"
      },
      "source": [
        "# Up sample only the train dataset with SMOTE\r\n",
        "sm = SMOTE(random_state=42, ratio = 1.0)\r\n",
        "X_train_upsamp, Y_train_upsamp = sm.fit_sample(X_train, Y_train)\r\n",
        "    \r\n",
        "X_train_upsamp = pd.DataFrame(X_train_upsamp, columns=features)\r\n",
        "\r\n",
        "Y_train_upsamp = pd.Series(Y_train_upsamp)"
      ],
      "execution_count": 27,
      "outputs": [
        {
          "output_type": "stream",
          "text": [
            "/usr/local/lib/python3.6/dist-packages/sklearn/utils/deprecation.py:87: FutureWarning: Function safe_indexing is deprecated; safe_indexing is deprecated in version 0.22 and will be removed in version 0.24.\n",
            "  warnings.warn(msg, category=FutureWarning)\n"
          ],
          "name": "stderr"
        }
      ]
    },
    {
      "cell_type": "code",
      "metadata": {
        "colab": {
          "base_uri": "https://localhost:8080/"
        },
        "id": "j-1ulMzqPjA2",
        "outputId": "65b92ae6-fdd3-4b50-f398-26311fd5e79e"
      },
      "source": [
        "Y_train_upsamp.value_counts()"
      ],
      "execution_count": 28,
      "outputs": [
        {
          "output_type": "execute_result",
          "data": {
            "text/plain": [
              "1.0    67047\n",
              "0.0    67047\n",
              "dtype: int64"
            ]
          },
          "metadata": {
            "tags": []
          },
          "execution_count": 28
        }
      ]
    },
    {
      "cell_type": "code",
      "metadata": {
        "colab": {
          "base_uri": "https://localhost:8080/"
        },
        "id": "0MoG0GJxPeJV",
        "outputId": "6ffd9d42-d347-48d2-c483-7347851e1cf8"
      },
      "source": [
        "# Train an xgboost model\r\n",
        "eval_set = [(X_train_upsamp, Y_train_upsamp), (X_valid, Y_valid)]\r\n",
        "model = xgb.XGBClassifier(learning_rate = 0.1,\\\r\n",
        "                          max_depth = 7,\\\r\n",
        "                          min_child_weight = 5,\\\r\n",
        "                          objective = 'binary:logistic',\\\r\n",
        "                          seed = 42,\\\r\n",
        "                          gamma = 0.1,\\\r\n",
        "                          silent = True)\r\n",
        "model.fit(X_train_upsamp, Y_train_upsamp, eval_set=eval_set,\\\r\n",
        "          eval_metric=\"auc\", verbose=True, early_stopping_rounds=30)"
      ],
      "execution_count": 29,
      "outputs": [
        {
          "output_type": "stream",
          "text": [
            "[0]\tvalidation_0-auc:0.891992\tvalidation_1-auc:0.645481\n",
            "Multiple eval metrics have been passed: 'validation_1-auc' will be used for early stopping.\n",
            "\n",
            "Will train until validation_1-auc hasn't improved in 30 rounds.\n",
            "[1]\tvalidation_0-auc:0.898054\tvalidation_1-auc:0.653202\n",
            "[2]\tvalidation_0-auc:0.906917\tvalidation_1-auc:0.65697\n",
            "[3]\tvalidation_0-auc:0.915775\tvalidation_1-auc:0.658408\n",
            "[4]\tvalidation_0-auc:0.934996\tvalidation_1-auc:0.655914\n",
            "[5]\tvalidation_0-auc:0.935649\tvalidation_1-auc:0.651876\n",
            "[6]\tvalidation_0-auc:0.935016\tvalidation_1-auc:0.654039\n",
            "[7]\tvalidation_0-auc:0.943776\tvalidation_1-auc:0.655699\n",
            "[8]\tvalidation_0-auc:0.944752\tvalidation_1-auc:0.650929\n",
            "[9]\tvalidation_0-auc:0.950239\tvalidation_1-auc:0.648446\n",
            "[10]\tvalidation_0-auc:0.950787\tvalidation_1-auc:0.648789\n",
            "[11]\tvalidation_0-auc:0.957777\tvalidation_1-auc:0.648527\n",
            "[12]\tvalidation_0-auc:0.959635\tvalidation_1-auc:0.645952\n",
            "[13]\tvalidation_0-auc:0.961191\tvalidation_1-auc:0.644991\n",
            "[14]\tvalidation_0-auc:0.963264\tvalidation_1-auc:0.644359\n",
            "[15]\tvalidation_0-auc:0.964559\tvalidation_1-auc:0.643373\n",
            "[16]\tvalidation_0-auc:0.96789\tvalidation_1-auc:0.642907\n",
            "[17]\tvalidation_0-auc:0.971348\tvalidation_1-auc:0.643167\n",
            "[18]\tvalidation_0-auc:0.971811\tvalidation_1-auc:0.642867\n",
            "[19]\tvalidation_0-auc:0.972129\tvalidation_1-auc:0.640521\n",
            "[20]\tvalidation_0-auc:0.972874\tvalidation_1-auc:0.641371\n",
            "[21]\tvalidation_0-auc:0.974931\tvalidation_1-auc:0.641463\n",
            "[22]\tvalidation_0-auc:0.975742\tvalidation_1-auc:0.641142\n",
            "[23]\tvalidation_0-auc:0.975969\tvalidation_1-auc:0.641459\n",
            "[24]\tvalidation_0-auc:0.976825\tvalidation_1-auc:0.641571\n",
            "[25]\tvalidation_0-auc:0.978049\tvalidation_1-auc:0.639893\n",
            "[26]\tvalidation_0-auc:0.978595\tvalidation_1-auc:0.640487\n",
            "[27]\tvalidation_0-auc:0.979204\tvalidation_1-auc:0.640151\n",
            "[28]\tvalidation_0-auc:0.980176\tvalidation_1-auc:0.641093\n",
            "[29]\tvalidation_0-auc:0.98085\tvalidation_1-auc:0.638883\n",
            "[30]\tvalidation_0-auc:0.981953\tvalidation_1-auc:0.639622\n",
            "[31]\tvalidation_0-auc:0.982504\tvalidation_1-auc:0.639453\n",
            "[32]\tvalidation_0-auc:0.983063\tvalidation_1-auc:0.639492\n",
            "[33]\tvalidation_0-auc:0.98367\tvalidation_1-auc:0.640488\n",
            "Stopping. Best iteration:\n",
            "[3]\tvalidation_0-auc:0.915775\tvalidation_1-auc:0.658408\n",
            "\n"
          ],
          "name": "stdout"
        },
        {
          "output_type": "execute_result",
          "data": {
            "text/plain": [
              "XGBClassifier(base_score=0.5, booster='gbtree', colsample_bylevel=1,\n",
              "              colsample_bynode=1, colsample_bytree=1, gamma=0.1,\n",
              "              learning_rate=0.1, max_delta_step=0, max_depth=7,\n",
              "              min_child_weight=5, missing=None, n_estimators=100, n_jobs=1,\n",
              "              nthread=None, objective='binary:logistic', random_state=0,\n",
              "              reg_alpha=0, reg_lambda=1, scale_pos_weight=1, seed=42,\n",
              "              silent=True, subsample=1, verbosity=1)"
            ]
          },
          "metadata": {
            "tags": []
          },
          "execution_count": 29
        }
      ]
    },
    {
      "cell_type": "code",
      "metadata": {
        "colab": {
          "base_uri": "https://localhost:8080/",
          "height": 1000
        },
        "id": "D-iVdaTMSLrn",
        "outputId": "899a0016-ed7e-435e-b6a6-ce7845156962"
      },
      "source": [
        "# Check which features are important\r\n",
        "\r\n",
        "from xgboost import plot_importance\r\n",
        "from matplotlib import pyplot\r\n",
        "\r\n",
        "fig, ax = pyplot.subplots(figsize=(10, 18));\r\n",
        "xgb.plot_importance(model, ax=ax);"
      ],
      "execution_count": 30,
      "outputs": [
        {
          "output_type": "display_data",
          "data": {
            "image/png": "[encoded data removed]",
            "text/plain": [
              "<Figure size 720x1296 with 1 Axes>"
            ]
          },
          "metadata": {
            "tags": [],
            "needs_background": "light"
          }
        }
      ]
    },
    {
      "cell_type": "code",
      "metadata": {
        "colab": {
          "base_uri": "https://localhost:8080/"
        },
        "id": "Q-iFxCFESSTH",
        "outputId": "99a1371c-ca64-4bef-c359-0d7a3c99448f"
      },
      "source": [
        "# Confusion marix for the validation set\r\n",
        "valid_pred = model.predict(X_valid)\r\n",
        "cm = sk.metrics.confusion_matrix\r\n",
        "cm(Y_valid, valid_pred)"
      ],
      "execution_count": 31,
      "outputs": [
        {
          "output_type": "execute_result",
          "data": {
            "text/plain": [
              "array([[12684,  4082],\n",
              "       [   83,    58]])"
            ]
          },
          "metadata": {
            "tags": []
          },
          "execution_count": 31
        }
      ]
    },
    {
      "cell_type": "code",
      "metadata": {
        "colab": {
          "base_uri": "https://localhost:8080/",
          "height": 621
        },
        "id": "NlzAz3U_SaGL",
        "outputId": "2126b1eb-d827-4b3c-986c-d823bbddd35a"
      },
      "source": [
        "# Confusion marix for the validation set\r\n",
        "valid_pred = model.predict(X_valid, ntree_limit=model.best_ntree_limit)\r\n",
        "cm = sk.metrics.confusion_matrix(Y_valid, valid_pred)\r\n",
        "\r\n",
        "fig, ax= plt.subplots(figsize=(10,10))\r\n",
        "sb.heatmap(cm, annot=True, fmt='g', ax = ax);\r\n",
        "\r\n",
        "# labels, title and ticks\r\n",
        "ax.set_xlabel('Predicted labels');\r\n",
        "ax.set_ylabel('True labels'); \r\n",
        "ax.set_title('Confusion Matrix'); \r\n",
        "ax.xaxis.set_ticklabels(['No Purchase', 'Made Purchase']); \r\n",
        "ax.yaxis.set_ticklabels(['No Purchase', 'Made Purchase']);"
      ],
      "execution_count": 32,
      "outputs": [
        {
          "output_type": "display_data",
          "data": {
            "image/png": "[encoded data removed]",
            "text/plain": [
              "<Figure size 720x720 with 2 Axes>"
            ]
          },
          "metadata": {
            "tags": [],
            "needs_background": "light"
          }
        }
      ]
    },
    {
      "cell_type": "code",
      "metadata": {
        "id": "9tZpUSNBSlX8"
      },
      "source": [
        "def promotion_strategy(df):\r\n",
        "    test = df\r\n",
        "    \r\n",
        "    preds = model.predict(test, ntree_limit=model.best_ntree_limit)\r\n",
        "\r\n",
        "    promotion = []\r\n",
        "    for pred in preds:\r\n",
        "        if pred == 1:\r\n",
        "            promotion.append('Yes')\r\n",
        "        else:\r\n",
        "            promotion.append('No')\r\n",
        "    promotion = np.array(promotion)\r\n",
        "    return promotion"
      ],
      "execution_count": 33,
      "outputs": []
    },
    {
      "cell_type": "code",
      "metadata": {
        "colab": {
          "base_uri": "https://localhost:8080/"
        },
        "id": "1K_fb76gXD8l",
        "outputId": "d327e669-2109-4829-aa2a-6a5622d4477e"
      },
      "source": [
        "valid_results(promotion_strategy, valid)  # Calculate IRR and NIR for validation set"
      ],
      "execution_count": 34,
      "outputs": [
        {
          "output_type": "stream",
          "text": [
            "Your irr with this strategy is 0.0193.\n",
            "\n",
            "Your nir with this strategy is 94.70.\n",
            "Starbuck's baseline model had an irr of 0.0188 and an nir of 189.45 on the test set.\n"
          ],
          "name": "stdout"
        },
        {
          "output_type": "execute_result",
          "data": {
            "text/plain": [
              "(0.01925125750605293, 94.69999999999999)"
            ]
          },
          "metadata": {
            "tags": []
          },
          "execution_count": 34
        }
      ]
    },
    {
      "cell_type": "code",
      "metadata": {
        "colab": {
          "base_uri": "https://localhost:8080/"
        },
        "id": "KR6682L3XGSL",
        "outputId": "8ce819fd-52f9-47d0-9349-1c4a6974ab6e"
      },
      "source": [
        "test_results(promotion_strategy)  # Calculate IRR and NIR for test set"
      ],
      "execution_count": 35,
      "outputs": [
        {
          "output_type": "stream",
          "text": [
            "Your irr with this strategy is 0.0219.\n",
            "\n",
            "Your nir with this strategy is 332.70.\n",
            "\n",
            "Starbuck's baseline model had an irr of 0.0188 and an nir of 189.45 on the test set.\n",
            "\n"
          ],
          "name": "stdout"
        },
        {
          "output_type": "execute_result",
          "data": {
            "text/plain": [
              "(0.02185148545762388, 332.70000000000005)"
            ]
          },
          "metadata": {
            "tags": []
          },
          "execution_count": 35
        }
      ]
    },
    {
      "cell_type": "markdown",
      "metadata": {
        "id": "9WpWifZYh5ln"
      },
      "source": [
        "# **Model 2**"
      ]
    },
    {
      "cell_type": "code",
      "metadata": {
        "id": "KHobSgfYjNV7"
      },
      "source": [
        "train_data = pd.read_csv('training.csv')\r\n",
        "test_data = pd.read_csv('Test.csv')"
      ],
      "execution_count": 36,
      "outputs": []
    },
    {
      "cell_type": "code",
      "metadata": {
        "colab": {
          "base_uri": "https://localhost:8080/",
          "height": 402
        },
        "id": "CPcvgncwh3F8",
        "outputId": "43b2f848-883a-41fc-d508-94e9813d486d"
      },
      "source": [
        "target = []\r\n",
        "for index, row in train_data.iterrows():\r\n",
        "    if (row['Promotion'] == \"Yes\") & (row['purchase'] == 1):\r\n",
        "        # TR group (Treatment and Response group) --> Persuadables\r\n",
        "        target.append(0)\r\n",
        "    elif (row['Promotion'] == \"No\") & (row['purchase'] == 1):\r\n",
        "        # CR group (Control and Response group) --> The sure shots\r\n",
        "        target.append(1)\r\n",
        "    elif (row['Promotion'] == \"Yes\") & (row['purchase'] == 0):\r\n",
        "        # TN group (Treatment and No response group) --> The Do Not Disturbs\r\n",
        "        target.append(2)\r\n",
        "    else: #CN group (Control and No response group) --> The lost causes\r\n",
        "        target.append(3)\r\n",
        "\r\n",
        "train_data['target'] = target\r\n",
        "train_data"
      ],
      "execution_count": 37,
      "outputs": [
        {
          "output_type": "execute_result",
          "data": {
            "text/html": [
              "<div>\n",
              "<style scoped>\n",
              "    .dataframe tbody tr th:only-of-type {\n",
              "        vertical-align: middle;\n",
              "    }\n",
              "\n",
              "    .dataframe tbody tr th {\n",
              "        vertical-align: top;\n",
              "    }\n",
              "\n",
              "    .dataframe thead th {\n",
              "        text-align: right;\n",
              "    }\n",
              "</style>\n",
              "<table border=\"1\" class=\"dataframe\">\n",
              "  <thead>\n",
              "    <tr style=\"text-align: right;\">\n",
              "      <th></th>\n",
              "      <th>ID</th>\n",
              "      <th>Promotion</th>\n",
              "      <th>purchase</th>\n",
              "      <th>V1</th>\n",
              "      <th>V2</th>\n",
              "      <th>V3</th>\n",
              "      <th>V4</th>\n",
              "      <th>V5</th>\n",
              "      <th>V6</th>\n",
              "      <th>V7</th>\n",
              "      <th>target</th>\n",
              "    </tr>\n",
              "  </thead>\n",
              "  <tbody>\n",
              "    <tr>\n",
              "      <th>0</th>\n",
              "      <td>1</td>\n",
              "      <td>No</td>\n",
              "      <td>0</td>\n",
              "      <td>2</td>\n",
              "      <td>30.443518</td>\n",
              "      <td>-1.165083</td>\n",
              "      <td>1</td>\n",
              "      <td>1</td>\n",
              "      <td>3</td>\n",
              "      <td>2</td>\n",
              "      <td>3</td>\n",
              "    </tr>\n",
              "    <tr>\n",
              "      <th>1</th>\n",
              "      <td>3</td>\n",
              "      <td>No</td>\n",
              "      <td>0</td>\n",
              "      <td>3</td>\n",
              "      <td>32.159350</td>\n",
              "      <td>-0.645617</td>\n",
              "      <td>2</td>\n",
              "      <td>3</td>\n",
              "      <td>2</td>\n",
              "      <td>2</td>\n",
              "      <td>3</td>\n",
              "    </tr>\n",
              "    <tr>\n",
              "      <th>2</th>\n",
              "      <td>4</td>\n",
              "      <td>No</td>\n",
              "      <td>0</td>\n",
              "      <td>2</td>\n",
              "      <td>30.431659</td>\n",
              "      <td>0.133583</td>\n",
              "      <td>1</td>\n",
              "      <td>1</td>\n",
              "      <td>4</td>\n",
              "      <td>2</td>\n",
              "      <td>3</td>\n",
              "    </tr>\n",
              "    <tr>\n",
              "      <th>3</th>\n",
              "      <td>5</td>\n",
              "      <td>No</td>\n",
              "      <td>0</td>\n",
              "      <td>0</td>\n",
              "      <td>26.588914</td>\n",
              "      <td>-0.212728</td>\n",
              "      <td>2</td>\n",
              "      <td>1</td>\n",
              "      <td>4</td>\n",
              "      <td>2</td>\n",
              "      <td>3</td>\n",
              "    </tr>\n",
              "    <tr>\n",
              "      <th>4</th>\n",
              "      <td>8</td>\n",
              "      <td>Yes</td>\n",
              "      <td>0</td>\n",
              "      <td>3</td>\n",
              "      <td>28.044332</td>\n",
              "      <td>-0.385883</td>\n",
              "      <td>1</td>\n",
              "      <td>1</td>\n",
              "      <td>2</td>\n",
              "      <td>2</td>\n",
              "      <td>2</td>\n",
              "    </tr>\n",
              "    <tr>\n",
              "      <th>...</th>\n",
              "      <td>...</td>\n",
              "      <td>...</td>\n",
              "      <td>...</td>\n",
              "      <td>...</td>\n",
              "      <td>...</td>\n",
              "      <td>...</td>\n",
              "      <td>...</td>\n",
              "      <td>...</td>\n",
              "      <td>...</td>\n",
              "      <td>...</td>\n",
              "      <td>...</td>\n",
              "    </tr>\n",
              "    <tr>\n",
              "      <th>84529</th>\n",
              "      <td>126180</td>\n",
              "      <td>No</td>\n",
              "      <td>0</td>\n",
              "      <td>1</td>\n",
              "      <td>30.084876</td>\n",
              "      <td>1.345672</td>\n",
              "      <td>1</td>\n",
              "      <td>1</td>\n",
              "      <td>3</td>\n",
              "      <td>1</td>\n",
              "      <td>3</td>\n",
              "    </tr>\n",
              "    <tr>\n",
              "      <th>84530</th>\n",
              "      <td>126181</td>\n",
              "      <td>Yes</td>\n",
              "      <td>0</td>\n",
              "      <td>3</td>\n",
              "      <td>33.501485</td>\n",
              "      <td>-0.299306</td>\n",
              "      <td>1</td>\n",
              "      <td>1</td>\n",
              "      <td>4</td>\n",
              "      <td>1</td>\n",
              "      <td>2</td>\n",
              "    </tr>\n",
              "    <tr>\n",
              "      <th>84531</th>\n",
              "      <td>126182</td>\n",
              "      <td>No</td>\n",
              "      <td>0</td>\n",
              "      <td>1</td>\n",
              "      <td>31.492019</td>\n",
              "      <td>1.085939</td>\n",
              "      <td>2</td>\n",
              "      <td>3</td>\n",
              "      <td>2</td>\n",
              "      <td>2</td>\n",
              "      <td>3</td>\n",
              "    </tr>\n",
              "    <tr>\n",
              "      <th>84532</th>\n",
              "      <td>126183</td>\n",
              "      <td>No</td>\n",
              "      <td>0</td>\n",
              "      <td>1</td>\n",
              "      <td>37.766106</td>\n",
              "      <td>0.999361</td>\n",
              "      <td>2</td>\n",
              "      <td>2</td>\n",
              "      <td>1</td>\n",
              "      <td>2</td>\n",
              "      <td>3</td>\n",
              "    </tr>\n",
              "    <tr>\n",
              "      <th>84533</th>\n",
              "      <td>126184</td>\n",
              "      <td>No</td>\n",
              "      <td>0</td>\n",
              "      <td>1</td>\n",
              "      <td>21.720835</td>\n",
              "      <td>1.085939</td>\n",
              "      <td>2</td>\n",
              "      <td>2</td>\n",
              "      <td>1</td>\n",
              "      <td>2</td>\n",
              "      <td>3</td>\n",
              "    </tr>\n",
              "  </tbody>\n",
              "</table>\n",
              "<p>84534 rows × 11 columns</p>\n",
              "</div>"
            ],
            "text/plain": [
              "           ID Promotion  purchase  V1         V2  ...  V4  V5  V6  V7  target\n",
              "0           1        No         0   2  30.443518  ...   1   1   3   2       3\n",
              "1           3        No         0   3  32.159350  ...   2   3   2   2       3\n",
              "2           4        No         0   2  30.431659  ...   1   1   4   2       3\n",
              "3           5        No         0   0  26.588914  ...   2   1   4   2       3\n",
              "4           8       Yes         0   3  28.044332  ...   1   1   2   2       2\n",
              "...       ...       ...       ...  ..        ...  ...  ..  ..  ..  ..     ...\n",
              "84529  126180        No         0   1  30.084876  ...   1   1   3   1       3\n",
              "84530  126181       Yes         0   3  33.501485  ...   1   1   4   1       2\n",
              "84531  126182        No         0   1  31.492019  ...   2   3   2   2       3\n",
              "84532  126183        No         0   1  37.766106  ...   2   2   1   2       3\n",
              "84533  126184        No         0   1  21.720835  ...   2   2   1   2       3\n",
              "\n",
              "[84534 rows x 11 columns]"
            ]
          },
          "metadata": {
            "tags": []
          },
          "execution_count": 37
        }
      ]
    },
    {
      "cell_type": "code",
      "metadata": {
        "colab": {
          "base_uri": "https://localhost:8080/"
        },
        "id": "hDQ_aLwWTpCm",
        "outputId": "2d1cd767-a269-41b3-b783-ca851726e240"
      },
      "source": [
        "train_data.target.value_counts()"
      ],
      "execution_count": 38,
      "outputs": [
        {
          "output_type": "execute_result",
          "data": {
            "text/plain": [
              "3    41851\n",
              "2    41643\n",
              "0      721\n",
              "1      319\n",
              "Name: target, dtype: int64"
            ]
          },
          "metadata": {
            "tags": []
          },
          "execution_count": 38
        }
      ]
    },
    {
      "cell_type": "code",
      "metadata": {
        "id": "j-uUzJ9WjLTL"
      },
      "source": [
        "train, valid = sk.model_selection.train_test_split(train_data, test_size=0.2,random_state=42)\r\n",
        "\r\n",
        "features = ['V1', 'V2', 'V3', 'V4', 'V5', 'V6', 'V7']\r\n",
        "\r\n",
        "Y_train = train['target']\r\n",
        "X_train = train[features]\r\n",
        "\r\n",
        "Y_valid = valid['target']\r\n",
        "X_valid = valid[features]"
      ],
      "execution_count": 39,
      "outputs": []
    },
    {
      "cell_type": "code",
      "metadata": {
        "colab": {
          "base_uri": "https://localhost:8080/"
        },
        "id": "nL-7C-S2jriV",
        "outputId": "dd5a82c8-7d91-4fde-f566-c56ba8160fc3"
      },
      "source": [
        "Y_train.value_counts()"
      ],
      "execution_count": 40,
      "outputs": [
        {
          "output_type": "execute_result",
          "data": {
            "text/plain": [
              "3    33444\n",
              "2    33351\n",
              "0      580\n",
              "1      252\n",
              "Name: target, dtype: int64"
            ]
          },
          "metadata": {
            "tags": []
          },
          "execution_count": 40
        }
      ]
    },
    {
      "cell_type": "code",
      "metadata": {
        "colab": {
          "base_uri": "https://localhost:8080/"
        },
        "id": "nwP0WZMFjwDA",
        "outputId": "eba463ba-d79f-41af-fe34-e6a528647fc2"
      },
      "source": [
        "Y_valid.value_counts()"
      ],
      "execution_count": 41,
      "outputs": [
        {
          "output_type": "execute_result",
          "data": {
            "text/plain": [
              "3    8407\n",
              "2    8292\n",
              "0     141\n",
              "1      67\n",
              "Name: target, dtype: int64"
            ]
          },
          "metadata": {
            "tags": []
          },
          "execution_count": 41
        }
      ]
    },
    {
      "cell_type": "code",
      "metadata": {
        "colab": {
          "base_uri": "https://localhost:8080/"
        },
        "id": "sidLmePojyY7",
        "outputId": "5ef810bd-9003-4148-a569-039ab03c8489"
      },
      "source": [
        "# up sample with SMOTE\r\n",
        "sm = SMOTE({0:33444, 1:33444, 2:33444, 3:33444}, random_state=42)\r\n",
        "X_train_upsamp, Y_train_upsamp = sm.fit_sample(X_train, Y_train)\r\n",
        "    \r\n",
        "X_train_upsamp = pd.DataFrame(X_train_upsamp, columns=features)\r\n",
        "\r\n",
        "Y_train_upsamp = pd.Series(Y_train_upsamp)\r\n",
        "Y_train_upsamp.value_counts()"
      ],
      "execution_count": 42,
      "outputs": [
        {
          "output_type": "stream",
          "text": [
            "/usr/local/lib/python3.6/dist-packages/sklearn/utils/deprecation.py:87: FutureWarning: Function safe_indexing is deprecated; safe_indexing is deprecated in version 0.22 and will be removed in version 0.24.\n",
            "  warnings.warn(msg, category=FutureWarning)\n",
            "/usr/local/lib/python3.6/dist-packages/sklearn/utils/deprecation.py:87: FutureWarning: Function safe_indexing is deprecated; safe_indexing is deprecated in version 0.22 and will be removed in version 0.24.\n",
            "  warnings.warn(msg, category=FutureWarning)\n",
            "/usr/local/lib/python3.6/dist-packages/sklearn/utils/deprecation.py:87: FutureWarning: Function safe_indexing is deprecated; safe_indexing is deprecated in version 0.22 and will be removed in version 0.24.\n",
            "  warnings.warn(msg, category=FutureWarning)\n"
          ],
          "name": "stderr"
        },
        {
          "output_type": "execute_result",
          "data": {
            "text/plain": [
              "3    33444\n",
              "2    33444\n",
              "1    33444\n",
              "0    33444\n",
              "dtype: int64"
            ]
          },
          "metadata": {
            "tags": []
          },
          "execution_count": 42
        }
      ]
    },
    {
      "cell_type": "code",
      "metadata": {
        "colab": {
          "base_uri": "https://localhost:8080/"
        },
        "id": "GDpWR5uzj30R",
        "outputId": "a63fa156-6e19-46f1-cc89-0d779f1ee50a"
      },
      "source": [
        "eval_set = [(X_train_upsamp, Y_train_upsamp), (X_valid, Y_valid)]\r\n",
        "model = xgb.XGBClassifier()\r\n",
        "model.fit(X_train_upsamp, Y_train_upsamp, eval_set=eval_set,\\\r\n",
        "                    eval_metric=\"mlogloss\", verbose=True, early_stopping_rounds=30)"
      ],
      "execution_count": 43,
      "outputs": [
        {
          "output_type": "stream",
          "text": [
            "[0]\tvalidation_0-mlogloss:1.36693\tvalidation_1-mlogloss:1.37261\n",
            "Multiple eval metrics have been passed: 'validation_1-mlogloss' will be used for early stopping.\n",
            "\n",
            "Will train until validation_1-mlogloss hasn't improved in 30 rounds.\n",
            "[1]\tvalidation_0-mlogloss:1.35115\tvalidation_1-mlogloss:1.36036\n",
            "[2]\tvalidation_0-mlogloss:1.33496\tvalidation_1-mlogloss:1.34914\n",
            "[3]\tvalidation_0-mlogloss:1.31982\tvalidation_1-mlogloss:1.33765\n",
            "[4]\tvalidation_0-mlogloss:1.30734\tvalidation_1-mlogloss:1.32828\n",
            "[5]\tvalidation_0-mlogloss:1.29698\tvalidation_1-mlogloss:1.32051\n",
            "[6]\tvalidation_0-mlogloss:1.28487\tvalidation_1-mlogloss:1.31227\n",
            "[7]\tvalidation_0-mlogloss:1.2728\tvalidation_1-mlogloss:1.3037\n",
            "[8]\tvalidation_0-mlogloss:1.26456\tvalidation_1-mlogloss:1.29721\n",
            "[9]\tvalidation_0-mlogloss:1.25455\tvalidation_1-mlogloss:1.29001\n",
            "[10]\tvalidation_0-mlogloss:1.24557\tvalidation_1-mlogloss:1.28319\n",
            "[11]\tvalidation_0-mlogloss:1.23776\tvalidation_1-mlogloss:1.27772\n",
            "[12]\tvalidation_0-mlogloss:1.23118\tvalidation_1-mlogloss:1.27207\n",
            "[13]\tvalidation_0-mlogloss:1.22182\tvalidation_1-mlogloss:1.26477\n",
            "[14]\tvalidation_0-mlogloss:1.21485\tvalidation_1-mlogloss:1.25986\n",
            "[15]\tvalidation_0-mlogloss:1.20737\tvalidation_1-mlogloss:1.25398\n",
            "[16]\tvalidation_0-mlogloss:1.2002\tvalidation_1-mlogloss:1.24761\n",
            "[17]\tvalidation_0-mlogloss:1.1929\tvalidation_1-mlogloss:1.24189\n",
            "[18]\tvalidation_0-mlogloss:1.18656\tvalidation_1-mlogloss:1.23695\n",
            "[19]\tvalidation_0-mlogloss:1.17861\tvalidation_1-mlogloss:1.23065\n",
            "[20]\tvalidation_0-mlogloss:1.17175\tvalidation_1-mlogloss:1.22449\n",
            "[21]\tvalidation_0-mlogloss:1.16759\tvalidation_1-mlogloss:1.22135\n",
            "[22]\tvalidation_0-mlogloss:1.16073\tvalidation_1-mlogloss:1.21546\n",
            "[23]\tvalidation_0-mlogloss:1.1558\tvalidation_1-mlogloss:1.21168\n",
            "[24]\tvalidation_0-mlogloss:1.14982\tvalidation_1-mlogloss:1.20701\n",
            "[25]\tvalidation_0-mlogloss:1.14273\tvalidation_1-mlogloss:1.20166\n",
            "[26]\tvalidation_0-mlogloss:1.13617\tvalidation_1-mlogloss:1.19612\n",
            "[27]\tvalidation_0-mlogloss:1.13187\tvalidation_1-mlogloss:1.19257\n",
            "[28]\tvalidation_0-mlogloss:1.12581\tvalidation_1-mlogloss:1.18703\n",
            "[29]\tvalidation_0-mlogloss:1.12121\tvalidation_1-mlogloss:1.18317\n",
            "[30]\tvalidation_0-mlogloss:1.11713\tvalidation_1-mlogloss:1.17985\n",
            "[31]\tvalidation_0-mlogloss:1.11223\tvalidation_1-mlogloss:1.17573\n",
            "[32]\tvalidation_0-mlogloss:1.10686\tvalidation_1-mlogloss:1.17167\n",
            "[33]\tvalidation_0-mlogloss:1.10264\tvalidation_1-mlogloss:1.16783\n",
            "[34]\tvalidation_0-mlogloss:1.09784\tvalidation_1-mlogloss:1.16386\n",
            "[35]\tvalidation_0-mlogloss:1.09347\tvalidation_1-mlogloss:1.16041\n",
            "[36]\tvalidation_0-mlogloss:1.08944\tvalidation_1-mlogloss:1.15693\n",
            "[37]\tvalidation_0-mlogloss:1.08417\tvalidation_1-mlogloss:1.15235\n",
            "[38]\tvalidation_0-mlogloss:1.08033\tvalidation_1-mlogloss:1.14885\n",
            "[39]\tvalidation_0-mlogloss:1.07755\tvalidation_1-mlogloss:1.1463\n",
            "[40]\tvalidation_0-mlogloss:1.07377\tvalidation_1-mlogloss:1.14343\n",
            "[41]\tvalidation_0-mlogloss:1.0694\tvalidation_1-mlogloss:1.1399\n",
            "[42]\tvalidation_0-mlogloss:1.06556\tvalidation_1-mlogloss:1.13666\n",
            "[43]\tvalidation_0-mlogloss:1.06222\tvalidation_1-mlogloss:1.13382\n",
            "[44]\tvalidation_0-mlogloss:1.0591\tvalidation_1-mlogloss:1.13131\n",
            "[45]\tvalidation_0-mlogloss:1.05555\tvalidation_1-mlogloss:1.12837\n",
            "[46]\tvalidation_0-mlogloss:1.05081\tvalidation_1-mlogloss:1.12391\n",
            "[47]\tvalidation_0-mlogloss:1.04685\tvalidation_1-mlogloss:1.12067\n",
            "[48]\tvalidation_0-mlogloss:1.04379\tvalidation_1-mlogloss:1.1181\n",
            "[49]\tvalidation_0-mlogloss:1.04002\tvalidation_1-mlogloss:1.11542\n",
            "[50]\tvalidation_0-mlogloss:1.03656\tvalidation_1-mlogloss:1.1126\n",
            "[51]\tvalidation_0-mlogloss:1.03292\tvalidation_1-mlogloss:1.10957\n",
            "[52]\tvalidation_0-mlogloss:1.03053\tvalidation_1-mlogloss:1.10766\n",
            "[53]\tvalidation_0-mlogloss:1.02683\tvalidation_1-mlogloss:1.10494\n",
            "[54]\tvalidation_0-mlogloss:1.02386\tvalidation_1-mlogloss:1.10286\n",
            "[55]\tvalidation_0-mlogloss:1.02124\tvalidation_1-mlogloss:1.10047\n",
            "[56]\tvalidation_0-mlogloss:1.01807\tvalidation_1-mlogloss:1.09791\n",
            "[57]\tvalidation_0-mlogloss:1.01518\tvalidation_1-mlogloss:1.09566\n",
            "[58]\tvalidation_0-mlogloss:1.01244\tvalidation_1-mlogloss:1.09331\n",
            "[59]\tvalidation_0-mlogloss:1.00898\tvalidation_1-mlogloss:1.09063\n",
            "[60]\tvalidation_0-mlogloss:1.00661\tvalidation_1-mlogloss:1.08872\n",
            "[61]\tvalidation_0-mlogloss:1.00406\tvalidation_1-mlogloss:1.08672\n",
            "[62]\tvalidation_0-mlogloss:1.00134\tvalidation_1-mlogloss:1.08461\n",
            "[63]\tvalidation_0-mlogloss:0.99827\tvalidation_1-mlogloss:1.08242\n",
            "[64]\tvalidation_0-mlogloss:0.994542\tvalidation_1-mlogloss:1.07939\n",
            "[65]\tvalidation_0-mlogloss:0.992238\tvalidation_1-mlogloss:1.07739\n",
            "[66]\tvalidation_0-mlogloss:0.990497\tvalidation_1-mlogloss:1.07585\n",
            "[67]\tvalidation_0-mlogloss:0.987952\tvalidation_1-mlogloss:1.07384\n",
            "[68]\tvalidation_0-mlogloss:0.984699\tvalidation_1-mlogloss:1.07164\n",
            "[69]\tvalidation_0-mlogloss:0.982676\tvalidation_1-mlogloss:1.06986\n",
            "[70]\tvalidation_0-mlogloss:0.979321\tvalidation_1-mlogloss:1.06708\n",
            "[71]\tvalidation_0-mlogloss:0.977584\tvalidation_1-mlogloss:1.06567\n",
            "[72]\tvalidation_0-mlogloss:0.975325\tvalidation_1-mlogloss:1.0637\n",
            "[73]\tvalidation_0-mlogloss:0.972706\tvalidation_1-mlogloss:1.06177\n",
            "[74]\tvalidation_0-mlogloss:0.970959\tvalidation_1-mlogloss:1.06054\n",
            "[75]\tvalidation_0-mlogloss:0.968656\tvalidation_1-mlogloss:1.05843\n",
            "[76]\tvalidation_0-mlogloss:0.965865\tvalidation_1-mlogloss:1.0561\n",
            "[77]\tvalidation_0-mlogloss:0.963699\tvalidation_1-mlogloss:1.05416\n",
            "[78]\tvalidation_0-mlogloss:0.96141\tvalidation_1-mlogloss:1.05214\n",
            "[79]\tvalidation_0-mlogloss:0.95925\tvalidation_1-mlogloss:1.0503\n",
            "[80]\tvalidation_0-mlogloss:0.957099\tvalidation_1-mlogloss:1.04867\n",
            "[81]\tvalidation_0-mlogloss:0.954357\tvalidation_1-mlogloss:1.04635\n",
            "[82]\tvalidation_0-mlogloss:0.952523\tvalidation_1-mlogloss:1.04507\n",
            "[83]\tvalidation_0-mlogloss:0.950292\tvalidation_1-mlogloss:1.04357\n",
            "[84]\tvalidation_0-mlogloss:0.948276\tvalidation_1-mlogloss:1.04181\n",
            "[85]\tvalidation_0-mlogloss:0.946046\tvalidation_1-mlogloss:1.03987\n",
            "[86]\tvalidation_0-mlogloss:0.944162\tvalidation_1-mlogloss:1.03803\n",
            "[87]\tvalidation_0-mlogloss:0.941938\tvalidation_1-mlogloss:1.0359\n",
            "[88]\tvalidation_0-mlogloss:0.940263\tvalidation_1-mlogloss:1.03449\n",
            "[89]\tvalidation_0-mlogloss:0.938232\tvalidation_1-mlogloss:1.03272\n",
            "[90]\tvalidation_0-mlogloss:0.936338\tvalidation_1-mlogloss:1.0309\n",
            "[91]\tvalidation_0-mlogloss:0.934341\tvalidation_1-mlogloss:1.02922\n",
            "[92]\tvalidation_0-mlogloss:0.932016\tvalidation_1-mlogloss:1.02764\n",
            "[93]\tvalidation_0-mlogloss:0.929665\tvalidation_1-mlogloss:1.02558\n",
            "[94]\tvalidation_0-mlogloss:0.928069\tvalidation_1-mlogloss:1.02382\n",
            "[95]\tvalidation_0-mlogloss:0.925614\tvalidation_1-mlogloss:1.02179\n",
            "[96]\tvalidation_0-mlogloss:0.924083\tvalidation_1-mlogloss:1.02026\n",
            "[97]\tvalidation_0-mlogloss:0.922301\tvalidation_1-mlogloss:1.01916\n",
            "[98]\tvalidation_0-mlogloss:0.920635\tvalidation_1-mlogloss:1.01808\n",
            "[99]\tvalidation_0-mlogloss:0.918165\tvalidation_1-mlogloss:1.0166\n"
          ],
          "name": "stdout"
        },
        {
          "output_type": "execute_result",
          "data": {
            "text/plain": [
              "XGBClassifier(base_score=0.5, booster='gbtree', colsample_bylevel=1,\n",
              "              colsample_bynode=1, colsample_bytree=1, gamma=0,\n",
              "              learning_rate=0.1, max_delta_step=0, max_depth=3,\n",
              "              min_child_weight=1, missing=None, n_estimators=100, n_jobs=1,\n",
              "              nthread=None, objective='multi:softprob', random_state=0,\n",
              "              reg_alpha=0, reg_lambda=1, scale_pos_weight=1, seed=None,\n",
              "              silent=None, subsample=1, verbosity=1)"
            ]
          },
          "metadata": {
            "tags": []
          },
          "execution_count": 43
        }
      ]
    },
    {
      "cell_type": "code",
      "metadata": {
        "colab": {
          "base_uri": "https://localhost:8080/",
          "height": 621
        },
        "id": "blRfcnWKj_K7",
        "outputId": "ade810b3-69aa-4620-8ddd-35940876e73c"
      },
      "source": [
        "# confusion marix for the validation set\r\n",
        "# Note:\r\n",
        "# TR: treatment and respond group (received promotion and made purchase)\r\n",
        "# CR: control and respond group (did not receive promotion but made purchase)\r\n",
        "# TN: treatment and no respond group (received promotion but did not made purchase)\r\n",
        "# CR: control and no respond group (did not receive promotion and made no purchase)\r\n",
        "valid_pred = model.predict(X_valid)\r\n",
        "cm = sk.metrics.confusion_matrix(Y_valid, valid_pred)\r\n",
        "\r\n",
        "fig, ax= plt.subplots(figsize=(10,10))\r\n",
        "sb.heatmap(cm, annot=True, fmt='g', ax = ax); #annot=True to annotate cells\r\n",
        "\r\n",
        "# labels, title and ticks\r\n",
        "ax.set_xlabel('Predicted labels');\r\n",
        "ax.set_ylabel('True labels'); \r\n",
        "ax.set_title('Confusion Matrix'); \r\n",
        "ax.xaxis.set_ticklabels(['TR', 'CR', 'TN', 'CN']); \r\n",
        "ax.yaxis.set_ticklabels(['TR', 'CR', 'TN', 'CN']);"
      ],
      "execution_count": 44,
      "outputs": [
        {
          "output_type": "display_data",
          "data": {
            "image/png": "[encoded data removed]",
            "text/plain": [
              "<Figure size 720x720 with 2 Axes>"
            ]
          },
          "metadata": {
            "tags": [],
            "needs_background": "light"
          }
        }
      ]
    },
    {
      "cell_type": "code",
      "metadata": {
        "id": "3xXLx4FbkWEV"
      },
      "source": [
        "def promotion_strategy(df):\r\n",
        "    test = df\r\n",
        "    \r\n",
        "    pred = model.predict(test)\r\n",
        "    \r\n",
        "    promotion = []\r\n",
        "    \r\n",
        "    for pred in pred:\r\n",
        "        if pred == 0:\r\n",
        "            promotion.append('Yes')\r\n",
        "        else:\r\n",
        "            promotion.append('No')\r\n",
        "    \r\n",
        "    promotion = np.array(promotion)\r\n",
        "    \r\n",
        "    return promotion"
      ],
      "execution_count": 45,
      "outputs": []
    },
    {
      "cell_type": "code",
      "metadata": {
        "colab": {
          "base_uri": "https://localhost:8080/"
        },
        "id": "DS5G-gq4lVIP",
        "outputId": "96c90ebf-b036-471c-87fe-2e5167f9296f"
      },
      "source": [
        "# find out IRR and NIR on our validation set\r\n",
        "valid_results(promotion_strategy, valid)"
      ],
      "execution_count": 46,
      "outputs": [
        {
          "output_type": "stream",
          "text": [
            "Your irr with this strategy is 0.0180.\n",
            "\n",
            "Your nir with this strategy is 35.00.\n",
            "Starbuck's baseline model had an irr of 0.0188 and an nir of 189.45 on the test set.\n"
          ],
          "name": "stdout"
        },
        {
          "output_type": "execute_result",
          "data": {
            "text/plain": [
              "(0.018003398470688187, 35.0)"
            ]
          },
          "metadata": {
            "tags": []
          },
          "execution_count": 46
        }
      ]
    },
    {
      "cell_type": "code",
      "metadata": {
        "colab": {
          "base_uri": "https://localhost:8080/"
        },
        "id": "29KBcJhJlaCE",
        "outputId": "9203fc25-ed77-4b1f-8000-daf3df65ec48"
      },
      "source": [
        "test_results(promotion_strategy)"
      ],
      "execution_count": 47,
      "outputs": [
        {
          "output_type": "stream",
          "text": [
            "Your irr with this strategy is 0.0236.\n",
            "\n",
            "Your nir with this strategy is 214.95.\n",
            "\n",
            "Starbuck's baseline model had an irr of 0.0188 and an nir of 189.45 on the test set.\n",
            "\n"
          ],
          "name": "stdout"
        },
        {
          "output_type": "execute_result",
          "data": {
            "text/plain": [
              "(0.023570064047996834, 214.95)"
            ]
          },
          "metadata": {
            "tags": []
          },
          "execution_count": 47
        }
      ]
    },
    {
      "cell_type": "code",
      "metadata": {
        "id": "YqQVvc4qlhHA"
      },
      "source": [
        ""
      ],
      "execution_count": null,
      "outputs": []
    }
  ]
}